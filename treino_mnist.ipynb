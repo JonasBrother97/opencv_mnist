{
 "cells": [
  {
   "cell_type": "code",
   "execution_count": 1,
   "metadata": {},
   "outputs": [],
   "source": [
    "import torch\n",
    "import torch.nn as nn\n",
    "#transforms para transformar as imagens em tensores\n",
    "from torchvision import datasets, transforms\n",
    "#separar treino e teste, dataloader para ajudar a organizar as imagens em batches\n",
    "from torch.utils.data import random_split, DataLoader"
   ]
  },
  {
   "cell_type": "code",
   "execution_count": 2,
   "metadata": {},
   "outputs": [
    {
     "name": "stdout",
     "output_type": "stream",
     "text": [
      "A pasta já existe\n"
     ]
    }
   ],
   "source": [
    "#baixar e transformar as imagens em tensores\n",
    "\n",
    "#importação do sistema operacional para validar se a pasta existe ou não\n",
    "import os\n",
    "#se a pasta existe ele não faz o download\n",
    "if os.path.exists('./data') == True:\n",
    "    dataset = datasets.MNIST('data', train=True, download=False, transform=transforms.ToTensor()) \n",
    "    print('A pasta já existe')\n",
    "#se não ele faz o download da pasta\n",
    "else:\n",
    "    dataset = datasets.MNIST('data', train=True, download=True, transform=transforms.ToTensor())"
   ]
  },
  {
   "cell_type": "code",
   "execution_count": 3,
   "metadata": {},
   "outputs": [
    {
     "data": {
      "image/png": "[encoded data removed]",
      "text/plain": [
       "<Figure size 432x288 with 9 Axes>"
      ]
     },
     "metadata": {},
     "output_type": "display_data"
    }
   ],
   "source": [
    "from matplotlib import pyplot as plt\n",
    "\n",
    "#visualizando as imagens e suas classificações\n",
    "fig = plt.figure()\n",
    "\n",
    "for i in range(9):\n",
    "    plt.subplot(3,3,i+1)\n",
    "    plt.tight_layout()\n",
    "    plt.imshow(dataset.data[i], cmap='gray')\n",
    "    plt.title('Label: {}'.format(dataset.targets[i]))\n",
    "    plt.xticks([])\n",
    "    plt.yticks([])"
   ]
  },
  {
   "cell_type": "code",
   "execution_count": 4,
   "metadata": {},
   "outputs": [
    {
     "data": {
      "text/plain": [
       "['0 - zero',\n",
       " '1 - one',\n",
       " '2 - two',\n",
       " '3 - three',\n",
       " '4 - four',\n",
       " '5 - five',\n",
       " '6 - six',\n",
       " '7 - seven',\n",
       " '8 - eight',\n",
       " '9 - nine']"
      ]
     },
     "execution_count": 4,
     "metadata": {},
     "output_type": "execute_result"
    }
   ],
   "source": [
    "#classes de 0 a 9\n",
    "dataset.classes"
   ]
  },
  {
   "cell_type": "code",
   "execution_count": 5,
   "metadata": {},
   "outputs": [
    {
     "data": {
      "text/plain": [
       "torch.Size([60000, 28, 28])"
      ]
     },
     "execution_count": 5,
     "metadata": {},
     "output_type": "execute_result"
    }
   ],
   "source": [
    "#no pytorch size é = a shape, tamanho dos dados, já são tensores\n",
    "dataset.data.size()"
   ]
  },
  {
   "cell_type": "code",
   "execution_count": 6,
   "metadata": {},
   "outputs": [
    {
     "name": "stdout",
     "output_type": "stream",
     "text": [
      "tensor([[  0,   0,   0,   0,   0,   0,   0,   0,   0,   0,   0,   0,   0,   0,\n",
      "           0,   0,   0,   0,   0,   0,   0,   0,   0,   0,   0,   0,   0,   0],\n",
      "        [  0,   0,   0,   0,   0,   0,   0,   0,   0,   0,   0,   0,   0,   0,\n",
      "           0,   0,   0,   0,   0,   0,   0,   0,   0,   0,   0,   0,   0,   0],\n",
      "        [  0,   0,   0,   0,   0,   0,   0,   0,   0,   0,   0,   0,   0,   0,\n",
      "           0,   0,   0,   0,   0,   0,   0,   0,   0,   0,   0,   0,   0,   0],\n",
      "        [  0,   0,   0,   0,   0,   0,   0,   0,   0,   0,   0,   0,   0,   0,\n",
      "           0,   0,   0,   0,   0,   0,   0,   0,   0,   0,   0,   0,   0,   0],\n",
      "        [  0,   0,   0,   0,   0,   0,   0,   0,   0,   0,   0,   0,   0,   0,\n",
      "           0,   0,   0,   0,   0,   0,   0,   0,   0,   0,   0,   0,   0,   0],\n",
      "        [  0,   0,   0,   0,   0,   0,   0,   0,   0,   0,   0,   0,   0,   0,\n",
      "           0,  13,  25, 100, 122,   7,   0,   0,   0,   0,   0,   0,   0,   0],\n",
      "        [  0,   0,   0,   0,   0,   0,   0,   0,   0,   0,   0,   0,   0,  33,\n",
      "         151, 208, 252, 252, 252, 146,   0,   0,   0,   0,   0,   0,   0,   0],\n",
      "        [  0,   0,   0,   0,   0,   0,   0,   0,   0,   0,   0,  40, 152, 244,\n",
      "         252, 253, 224, 211, 252, 232,  40,   0,   0,   0,   0,   0,   0,   0],\n",
      "        [  0,   0,   0,   0,   0,   0,   0,   0,   0,  15, 152, 239, 252, 252,\n",
      "         252, 216,  31,  37, 252, 252,  60,   0,   0,   0,   0,   0,   0,   0],\n",
      "        [  0,   0,   0,   0,   0,   0,   0,   0,   0,  96, 252, 252, 252, 252,\n",
      "         217,  29,   0,  37, 252, 252,  60,   0,   0,   0,   0,   0,   0,   0],\n",
      "        [  0,   0,   0,   0,   0,   0,   0,   0,   0, 181, 252, 252, 220, 167,\n",
      "          30,   0,   0,  77, 252, 252,  60,   0,   0,   0,   0,   0,   0,   0],\n",
      "        [  0,   0,   0,   0,   0,   0,   0,   0,   0,  26, 128,  58,  22,   0,\n",
      "           0,   0,   0, 100, 252, 252,  60,   0,   0,   0,   0,   0,   0,   0],\n",
      "        [  0,   0,   0,   0,   0,   0,   0,   0,   0,   0,   0,   0,   0,   0,\n",
      "           0,   0,   0, 157, 252, 252,  60,   0,   0,   0,   0,   0,   0,   0],\n",
      "        [  0,   0,   0,   0,   0,   0,   0,   0,   0,   0,   0,   0,   0, 110,\n",
      "         121, 122, 121, 202, 252, 194,   3,   0,   0,   0,   0,   0,   0,   0],\n",
      "        [  0,   0,   0,   0,   0,   0,   0,   0,   0,   0,  10,  53, 179, 253,\n",
      "         253, 255, 253, 253, 228,  35,   0,   0,   0,   0,   0,   0,   0,   0],\n",
      "        [  0,   0,   0,   0,   0,   0,   0,   0,   5,  54, 227, 252, 243, 228,\n",
      "         170, 242, 252, 252, 231, 117,   6,   0,   0,   0,   0,   0,   0,   0],\n",
      "        [  0,   0,   0,   0,   0,   0,   0,   6,  78, 252, 252, 125,  59,   0,\n",
      "          18, 208, 252, 252, 252, 252,  87,   7,   0,   0,   0,   0,   0,   0],\n",
      "        [  0,   0,   0,   0,   0,   0,   5, 135, 252, 252, 180,  16,   0,  21,\n",
      "         203, 253, 247, 129, 173, 252, 252, 184,  66,  49,  49,   0,   0,   0],\n",
      "        [  0,   0,   0,   0,   0,   3, 136, 252, 241, 106,  17,   0,  53, 200,\n",
      "         252, 216,  65,   0,  14,  72, 163, 241, 252, 252, 223,   0,   0,   0],\n",
      "        [  0,   0,   0,   0,   0, 105, 252, 242,  88,  18,  73, 170, 244, 252,\n",
      "         126,  29,   0,   0,   0,   0,   0,  89, 180, 180,  37,   0,   0,   0],\n",
      "        [  0,   0,   0,   0,   0, 231, 252, 245, 205, 216, 252, 252, 252, 124,\n",
      "           3,   0,   0,   0,   0,   0,   0,   0,   0,   0,   0,   0,   0,   0],\n",
      "        [  0,   0,   0,   0,   0, 207, 252, 252, 252, 252, 178, 116,  36,   4,\n",
      "           0,   0,   0,   0,   0,   0,   0,   0,   0,   0,   0,   0,   0,   0],\n",
      "        [  0,   0,   0,   0,   0,  13,  93, 143, 121,  23,   6,   0,   0,   0,\n",
      "           0,   0,   0,   0,   0,   0,   0,   0,   0,   0,   0,   0,   0,   0],\n",
      "        [  0,   0,   0,   0,   0,   0,   0,   0,   0,   0,   0,   0,   0,   0,\n",
      "           0,   0,   0,   0,   0,   0,   0,   0,   0,   0,   0,   0,   0,   0],\n",
      "        [  0,   0,   0,   0,   0,   0,   0,   0,   0,   0,   0,   0,   0,   0,\n",
      "           0,   0,   0,   0,   0,   0,   0,   0,   0,   0,   0,   0,   0,   0],\n",
      "        [  0,   0,   0,   0,   0,   0,   0,   0,   0,   0,   0,   0,   0,   0,\n",
      "           0,   0,   0,   0,   0,   0,   0,   0,   0,   0,   0,   0,   0,   0],\n",
      "        [  0,   0,   0,   0,   0,   0,   0,   0,   0,   0,   0,   0,   0,   0,\n",
      "           0,   0,   0,   0,   0,   0,   0,   0,   0,   0,   0,   0,   0,   0],\n",
      "        [  0,   0,   0,   0,   0,   0,   0,   0,   0,   0,   0,   0,   0,   0,\n",
      "           0,   0,   0,   0,   0,   0,   0,   0,   0,   0,   0,   0,   0,   0]],\n",
      "       dtype=torch.uint8)\n",
      "tensor(2)\n"
     ]
    }
   ],
   "source": [
    "#tensores de uma das imagens\n",
    "print(dataset.data[5])\n",
    "#classe da imagem \n",
    "print(dataset.targets[5])"
   ]
  },
  {
   "cell_type": "code",
   "execution_count": 7,
   "metadata": {},
   "outputs": [],
   "source": [
    "#separando os dados de treino e teste\n",
    "treino, teste = random_split(dataset, [50000, 10000])\n",
    "#definindo a quantidade de imagens para treinar mais rápido o modelo\n",
    "loader_treino = DataLoader(treino, batch_size=32)\n",
    "loader_teste  = DataLoader(teste, batch_size=32)"
   ]
  },
  {
   "cell_type": "code",
   "execution_count": 8,
   "metadata": {},
   "outputs": [],
   "source": [
    "#o código que define a arquitetura da rede neural virou uma biblioteca e está sendo importada\n",
    "from modelo import modelo"
   ]
  },
  {
   "cell_type": "code",
   "execution_count": 9,
   "metadata": {},
   "outputs": [
    {
     "data": {
      "text/plain": [
       "modelo(\n",
       "  (fc1): Linear(in_features=784, out_features=128, bias=True)\n",
       "  (fc2): Linear(in_features=128, out_features=128, bias=True)\n",
       "  (fc3): Linear(in_features=128, out_features=10, bias=True)\n",
       ")"
      ]
     },
     "execution_count": 9,
     "metadata": {},
     "output_type": "execute_result"
    }
   ],
   "source": [
    "# Instancia o modelo\n",
    "model = modelo()\n",
    "#podemos ver as entradas e saídas\n",
    "#bias = intercept \n",
    "model"
   ]
  },
  {
   "cell_type": "code",
   "execution_count": 10,
   "metadata": {},
   "outputs": [],
   "source": [
    "# Define a função de perda e o otimizador\n",
    "#erro é a distancia entre o real e o predito\n",
    "funcao_erro = nn.CrossEntropyLoss()\n",
    "#otimizador da rede\n",
    "otimizador = torch.optim.Adam(model.parameters(), lr=0.001)"
   ]
  },
  {
   "cell_type": "code",
   "execution_count": 11,
   "metadata": {},
   "outputs": [
    {
     "name": "stdout",
     "output_type": "stream",
     "text": [
      "Epoca: 1, Erro treino:1.57, Acurácia treino: 0.89, Acurácia teste: 0.93\n",
      "Epoca: 2, Erro treino:1.49, Acurácia treino: 0.94, Acurácia teste: 0.95\n",
      "Epoca: 3, Erro treino:1.51, Acurácia treino: 0.96, Acurácia teste: 0.95\n",
      "Epoca: 4, Erro treino:1.47, Acurácia treino: 0.96, Acurácia teste: 0.96\n",
      "Epoca: 5, Erro treino:1.52, Acurácia treino: 0.97, Acurácia teste: 0.96\n"
     ]
    }
   ],
   "source": [
    "#TREINAMENTO DO MODELO\n",
    "#numero de passagens pelo conjunto para o treinamento\n",
    "num_epocas = 5\n",
    "#vai passar por todos os datapoints do treino e fazer a atualização da rede\n",
    "for epoca in range(num_epocas):\n",
    "    model.train()\n",
    "    train_loss = 0.0\n",
    "    train_correct = 0\n",
    "    #iteração para cada batch\n",
    "    for data, target in loader_treino:\n",
    "        #limpar o os gradientes\n",
    "        #não é dos coeficientes e sim das derivadas parciais caso contrário continuará somando e irá acumular\n",
    "        otimizador.zero_grad()\n",
    "        output = model(data)\n",
    "        #calcula o erro\n",
    "        erro = funcao_erro(output, target)\n",
    "        #inicio do backpropagation\n",
    "        #calculo das derivadas parciais\n",
    "        #calculando os gradientes para saber qual a direção para atualizar os coeficientes\n",
    "        erro.backward()\n",
    "        #o otimizador é quem atualiza os coeficientes\n",
    "        otimizador.step()\n",
    "\n",
    "        train_loss += erro.item() * data.size(0)\n",
    "        _, pred = torch.max(output, 1)\n",
    "        train_correct += (pred == target).sum().item()\n",
    "\n",
    "    train_loss = train_loss / len(loader_treino.dataset)\n",
    "    train_acc = train_correct / len(loader_treino.dataset)\n",
    "    \n",
    "#TESTE DO MODELO\n",
    "    model.eval()\n",
    "    val_loss = 0.0\n",
    "    val_correct = 0\n",
    "    with torch.no_grad():\n",
    "        for data, target in loader_teste:\n",
    "            output = model(data)\n",
    "            erro = funcao_erro(output, target)\n",
    "\n",
    "            val_loss += erro.item() * data.size(0)\n",
    "            _, pred = torch.max(output, 1)\n",
    "            val_correct += (pred == target).sum().item()\n",
    "\n",
    "    val_loss = val_loss / len(loader_teste.dataset)\n",
    "    val_acc = val_correct / len(loader_teste.dataset)\n",
    "\n",
    "    print(f'Epoca: {epoca + 1}, Erro treino:{erro.item():.2f}, Acurácia treino: {train_correct/len(treino):.2f}, Acurácia teste: {val_correct/len(teste):.2f}' )\n",
    "\n",
    "#salvar o modelo    \n",
    "torch.save(model.state_dict(), 'mnist_model.pt')"
   ]
  }
 ],
 "metadata": {
  "kernelspec": {
   "display_name": "Python 3",
   "language": "python",
   "name": "python3"
  },
  "language_info": {
   "codemirror_mode": {
    "name": "ipython",
    "version": 3
   },
   "file_extension": ".py",
   "mimetype": "text/x-python",
   "name": "python",
   "nbconvert_exporter": "python",
   "pygments_lexer": "ipython3",
   "version": "3.8.5"
  }
 },
 "nbformat": 4,
 "nbformat_minor": 4
}
